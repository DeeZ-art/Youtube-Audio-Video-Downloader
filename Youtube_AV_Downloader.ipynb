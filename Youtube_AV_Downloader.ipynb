{
 "cells": [
  {
   "cell_type": "markdown",
   "id": "6bd902dc",
   "metadata": {},
   "source": [
    "# Youtube Audio Video Downloader"
   ]
  },
  {
   "cell_type": "markdown",
   "id": "af60004a",
   "metadata": {},
   "source": [
    "### Audio Downloader"
   ]
  },
  {
   "cell_type": "code",
   "execution_count": 4,
   "id": "8bf39af1",
   "metadata": {},
   "outputs": [],
   "source": [
    "def audioDownloader(url,path,filename):\n",
    "    from pytube import YouTube\n",
    "    try:\n",
    "        yt = YouTube(url)\n",
    "        audio_stream = yt.streams.filter(only_audio=True).first()\n",
    "        audio_stream.download(output_path=path, filename=filename)\n",
    "        print(f\"Audio downloaded to {output_path}/{filename}\")   \n",
    "    except:\n",
    "        print(\"Invalid Url\")"
   ]
  },
  {
   "cell_type": "markdown",
   "id": "61883c07",
   "metadata": {},
   "source": [
    "### Video Downloader"
   ]
  },
  {
   "cell_type": "code",
   "execution_count": 5,
   "id": "27be4615",
   "metadata": {},
   "outputs": [],
   "source": [
    "def videoDownloader(url,path,filename):\n",
    "    import pytube\n",
    "    quality = input(\"For lowest resolution press 1\\nFor highest resolution press 2\\n\")\n",
    "    yt = pytube.YouTube(url)\n",
    "    if quality == '1':\n",
    "        stream = yt.streams.first()\n",
    "    elif quality == '2':\n",
    "        stream = yt.streams.get_highest_resolution()\n",
    "    finished = stream.download(path,filename = filename)\n",
    "    print(f\"Video downloaded to {path}/{filename}\") "
   ]
  },
  {
   "cell_type": "markdown",
   "id": "cdc836fc",
   "metadata": {},
   "source": [
    "### Code Runner"
   ]
  },
  {
   "cell_type": "code",
   "execution_count": 13,
   "id": "7f50ba8a",
   "metadata": {},
   "outputs": [
    {
     "name": "stdout",
     "output_type": "stream",
     "text": [
      "<--------Welcome to DownTube-------->\n",
      "**Proper Internet connection is required for downloading\n",
      "Enter the Url here: https://www.youtube.com/watch?v=7jyd2M4m2i4&t=546s\n",
      "For Downloading Audio only press1\n",
      "For Downloading Video press2\n",
      "2\n",
      "Enter the filename: tmkoc\n",
      "For lowest resolution press 1\n",
      "For highest resolution press 2\n",
      "1\n",
      "Video downloaded to C:\\Users\\Deepak Chaudhary\\Desktop\\test/tmkoc.mp4\n"
     ]
    }
   ],
   "source": [
    "print(\"<--------Welcome to DownTube-------->\")\n",
    "print(\"**Proper Internet connection is required for downloading\")\n",
    "url = input(\"Enter the Url here: \")\n",
    "path = r\"C:\\Users\\Deepak Chaudhary\\Desktop\\test\"\n",
    "x = input('For Downloading Audio only press1\\nFor Downloading Video press2\\n')\n",
    "if x == '1':\n",
    "    filename = \".\".join([input(\"Enter the filename: \"), 'mp3'])\n",
    "    audioDownloader(url,path,filename)\n",
    "elif x == '2':\n",
    "    filename = \".\".join([input(\"Enter the filename: \"), 'mp4'])\n",
    "    videoDownloader(url,path,filename)\n",
    "else:\n",
    "    print('Invalid input')"
   ]
  }
 ],
 "metadata": {
  "kernelspec": {
   "display_name": "Python 3 (ipykernel)",
   "language": "python",
   "name": "python3"
  },
  "language_info": {
   "codemirror_mode": {
    "name": "ipython",
    "version": 3
   },
   "file_extension": ".py",
   "mimetype": "text/x-python",
   "name": "python",
   "nbconvert_exporter": "python",
   "pygments_lexer": "ipython3",
   "version": "3.10.1"
  }
 },
 "nbformat": 4,
 "nbformat_minor": 5
}
